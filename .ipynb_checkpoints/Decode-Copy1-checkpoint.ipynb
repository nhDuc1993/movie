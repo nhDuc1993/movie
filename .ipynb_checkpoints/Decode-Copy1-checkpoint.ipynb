{
 "cells": [
  {
   "cell_type": "code",
   "execution_count": 4,
   "id": "375d3946-2ff1-4b3b-862d-2a4624ae9590",
   "metadata": {},
   "outputs": [
    {
     "name": "stderr",
     "output_type": "stream",
     "text": [
      "<ipython-input-4-d478e313a375>:10: SettingWithCopyWarning: \n",
      "A value is trying to be set on a copy of a slice from a DataFrame.\n",
      "Try using .loc[row_indexer,col_indexer] = value instead\n",
      "\n",
      "See the caveats in the documentation: https://pandas.pydata.org/pandas-docs/stable/user_guide/indexing.html#returning-a-view-versus-a-copy\n",
      "  df_cast['cast'] = df['cast'].apply(lambda x: x.encode().decode(\"unicode-escape\") if type(x) != float else x)\n",
      "<ipython-input-4-d478e313a375>:11: SettingWithCopyWarning: \n",
      "A value is trying to be set on a copy of a slice from a DataFrame\n",
      "\n",
      "See the caveats in the documentation: https://pandas.pydata.org/pandas-docs/stable/user_guide/indexing.html#returning-a-view-versus-a-copy\n",
      "  df_cast.dropna(inplace=True)\n"
     ]
    }
   ],
   "source": [
    "import pandas as pd\n",
    "import re\n",
    "\n",
    "# Load data_set:\n",
    "df = pd.read_csv(r'C:\\Users\\ADMIN\\Desktop\\python\\project\\data\\movie_dataset.csv', encoding='UTF-8', engine='python')\n",
    "\n",
    "# Create df_cast dataframe\n",
    "\n",
    "df_cast = df[['id', 'cast']]\n",
    "df_cast['cast'] = df['cast'].apply(lambda x: x.encode().decode(\"unicode-escape\") if type(x) != float else x)\n",
    "df_cast.dropna(inplace=True)"
   ]
  },
  {
   "cell_type": "code",
   "execution_count": 5,
   "id": "e4a1cb70-7d92-4e7c-85a6-177c33edd3e2",
   "metadata": {
    "tags": []
   },
   "outputs": [],
   "source": [
    "f = open(\"actor_list.txt\", \"r\", encoding=\"utf-8\")\n",
    "actor_list = f.read().split(',')"
   ]
  },
  {
   "cell_type": "code",
   "execution_count": 6,
   "id": "adfa33b8-764d-47bc-b7b0-7507633956d2",
   "metadata": {
    "tags": []
   },
   "outputs": [],
   "source": [
    "actor_list = list(map(lambda x: x.strip(), actor_list))\n",
    "actor_list = sorted(actor_list, key=len, reverse=True)"
   ]
  },
  {
   "cell_type": "code",
   "execution_count": 7,
   "id": "affd6eac-b495-43ae-a14e-2a69b733bcc5",
   "metadata": {
    "tags": []
   },
   "outputs": [
    {
     "name": "stderr",
     "output_type": "stream",
     "text": [
      "<ipython-input-7-de67a10a1c90>:11: SettingWithCopyWarning: \n",
      "A value is trying to be set on a copy of a slice from a DataFrame.\n",
      "Try using .loc[row_indexer,col_indexer] = value instead\n",
      "\n",
      "See the caveats in the documentation: https://pandas.pydata.org/pandas-docs/stable/user_guide/indexing.html#returning-a-view-versus-a-copy\n",
      "  df_cast['cast_parsed'] = cast_parsed_list\n",
      "<ipython-input-7-de67a10a1c90>:20: SettingWithCopyWarning: \n",
      "A value is trying to be set on a copy of a slice from a DataFrame.\n",
      "Try using .loc[row_indexer,col_indexer] = value instead\n",
      "\n",
      "See the caveats in the documentation: https://pandas.pydata.org/pandas-docs/stable/user_guide/indexing.html#returning-a-view-versus-a-copy\n",
      "  df_cast['remainder'] = df_cast[['cast', 'cast_parsed']].apply(lambda x: remove_string(x['cast'], x['cast_parsed']), axis=1)\n"
     ]
    }
   ],
   "source": [
    "# Obtain list of actors that are available in actor_list\n",
    "cast_parsed_list = []\n",
    "for i in df_cast['cast']:\n",
    "    actor = []\n",
    "    for j in actor_list:\n",
    "        if j in i:\n",
    "            actor.append(j)\n",
    "            i = i.replace(j, '')\n",
    "\n",
    "    cast_parsed_list.append(actor)\n",
    "df_cast['cast_parsed'] = cast_parsed_list\n",
    "\n",
    "# Define functions to get the remainder\n",
    "def remove_string(string, string_list):\n",
    "    for i in string_list:\n",
    "        string = string.replace(i, '')\n",
    "\n",
    "    return string.strip()\n",
    "\n",
    "df_cast['remainder'] = df_cast[['cast', 'cast_parsed']].apply(lambda x: remove_string(x['cast'], x['cast_parsed']), axis=1)"
   ]
  },
  {
   "cell_type": "code",
   "execution_count": 10,
   "id": "ae98f261-a377-4743-93bf-88f3f54f1b70",
   "metadata": {
    "tags": []
   },
   "outputs": [
    {
     "data": {
      "text/html": [
       "<div>\n",
       "<style scoped>\n",
       "    .dataframe tbody tr th:only-of-type {\n",
       "        vertical-align: middle;\n",
       "    }\n",
       "\n",
       "    .dataframe tbody tr th {\n",
       "        vertical-align: top;\n",
       "    }\n",
       "\n",
       "    .dataframe thead th {\n",
       "        text-align: right;\n",
       "    }\n",
       "</style>\n",
       "<table border=\"1\" class=\"dataframe\">\n",
       "  <thead>\n",
       "    <tr style=\"text-align: right;\">\n",
       "      <th></th>\n",
       "      <th>id</th>\n",
       "      <th>cast</th>\n",
       "      <th>cast_parsed</th>\n",
       "      <th>remainder</th>\n",
       "    </tr>\n",
       "  </thead>\n",
       "  <tbody>\n",
       "    <tr>\n",
       "      <th>1</th>\n",
       "      <td>285</td>\n",
       "      <td>Johnny Depp Orlando Bloom Keira Knightley Stel...</td>\n",
       "      <td>[Stellan Skarsgård, Keira Knightley, Orlando B...</td>\n",
       "      <td>Chow Yun-fat</td>\n",
       "    </tr>\n",
       "    <tr>\n",
       "      <th>6</th>\n",
       "      <td>38757</td>\n",
       "      <td>Zachary Levi Mandy Moore Donna Murphy Ron Perl...</td>\n",
       "      <td>[Zachary Levi, Donna Murphy, Ron Perlman, Mand...</td>\n",
       "      <td>M.C. Gainey</td>\n",
       "    </tr>\n",
       "    <tr>\n",
       "      <th>34</th>\n",
       "      <td>62211</td>\n",
       "      <td>Billy Crystal John Goodman Steve Buscemi Helen...</td>\n",
       "      <td>[Steve Buscemi, Billy Crystal, John Goodman, H...</td>\n",
       "      <td>Noah Johnston</td>\n",
       "    </tr>\n",
       "    <tr>\n",
       "      <th>45</th>\n",
       "      <td>72190</td>\n",
       "      <td>Brad Pitt Mireille Enos Abigail Hargrove Sterl...</td>\n",
       "      <td>[James Badge Dale, Sterling Jerins, Mireille E...</td>\n",
       "      <td>Abigail Hargrove</td>\n",
       "    </tr>\n",
       "    <tr>\n",
       "      <th>50</th>\n",
       "      <td>9543</td>\n",
       "      <td>Jake Gyllenhaal Gemma Arterton Ben Kingsley Al...</td>\n",
       "      <td>[Jake Gyllenhaal, Gemma Arterton, Alfred Molin...</td>\n",
       "      <td>Steve Toussaint</td>\n",
       "    </tr>\n",
       "    <tr>\n",
       "      <th>...</th>\n",
       "      <td>...</td>\n",
       "      <td>...</td>\n",
       "      <td>...</td>\n",
       "      <td>...</td>\n",
       "    </tr>\n",
       "    <tr>\n",
       "      <th>4782</th>\n",
       "      <td>17345</td>\n",
       "      <td>Alex Kendrick</td>\n",
       "      <td>[]</td>\n",
       "      <td>Alex Kendrick</td>\n",
       "    </tr>\n",
       "    <tr>\n",
       "      <th>4784</th>\n",
       "      <td>24055</td>\n",
       "      <td>Mark Duplass Katie Aselton Rhett Wilkins</td>\n",
       "      <td>[Katie Aselton, Mark Duplass]</td>\n",
       "      <td>Rhett Wilkins</td>\n",
       "    </tr>\n",
       "    <tr>\n",
       "      <th>4800</th>\n",
       "      <td>231617</td>\n",
       "      <td>Eric Mabius Kristin Booth Crystal Lowe Geoff G...</td>\n",
       "      <td>[Benjamin Hollingsworth, Geoff Gustafson, Kris...</td>\n",
       "      <td>Crystal Lowe</td>\n",
       "    </tr>\n",
       "    <tr>\n",
       "      <th>4801</th>\n",
       "      <td>126186</td>\n",
       "      <td>Daniel Henney Eliza Coupe Bill Paxton Alan Ruc...</td>\n",
       "      <td>[Daniel Henney, Eliza Coupe, Bill Paxton, Alan...</td>\n",
       "      <td>Zhu Shimao</td>\n",
       "    </tr>\n",
       "    <tr>\n",
       "      <th>4802</th>\n",
       "      <td>25975</td>\n",
       "      <td>Drew Barrymore Brian Herzlinger Corey Feldman ...</td>\n",
       "      <td>[Drew Barrymore, Corey Feldman, Griffin Dunne,...</td>\n",
       "      <td>Brian Herzlinger</td>\n",
       "    </tr>\n",
       "  </tbody>\n",
       "</table>\n",
       "<p>860 rows × 4 columns</p>\n",
       "</div>"
      ],
      "text/plain": [
       "          id                                               cast  \\\n",
       "1        285  Johnny Depp Orlando Bloom Keira Knightley Stel...   \n",
       "6      38757  Zachary Levi Mandy Moore Donna Murphy Ron Perl...   \n",
       "34     62211  Billy Crystal John Goodman Steve Buscemi Helen...   \n",
       "45     72190  Brad Pitt Mireille Enos Abigail Hargrove Sterl...   \n",
       "50      9543  Jake Gyllenhaal Gemma Arterton Ben Kingsley Al...   \n",
       "...      ...                                                ...   \n",
       "4782   17345                                      Alex Kendrick   \n",
       "4784   24055           Mark Duplass Katie Aselton Rhett Wilkins   \n",
       "4800  231617  Eric Mabius Kristin Booth Crystal Lowe Geoff G...   \n",
       "4801  126186  Daniel Henney Eliza Coupe Bill Paxton Alan Ruc...   \n",
       "4802   25975  Drew Barrymore Brian Herzlinger Corey Feldman ...   \n",
       "\n",
       "                                            cast_parsed         remainder  \n",
       "1     [Stellan Skarsgård, Keira Knightley, Orlando B...      Chow Yun-fat  \n",
       "6     [Zachary Levi, Donna Murphy, Ron Perlman, Mand...       M.C. Gainey  \n",
       "34    [Steve Buscemi, Billy Crystal, John Goodman, H...     Noah Johnston  \n",
       "45    [James Badge Dale, Sterling Jerins, Mireille E...  Abigail Hargrove  \n",
       "50    [Jake Gyllenhaal, Gemma Arterton, Alfred Molin...   Steve Toussaint  \n",
       "...                                                 ...               ...  \n",
       "4782                                                 []     Alex Kendrick  \n",
       "4784                      [Katie Aselton, Mark Duplass]     Rhett Wilkins  \n",
       "4800  [Benjamin Hollingsworth, Geoff Gustafson, Kris...      Crystal Lowe  \n",
       "4801  [Daniel Henney, Eliza Coupe, Bill Paxton, Alan...        Zhu Shimao  \n",
       "4802  [Drew Barrymore, Corey Feldman, Griffin Dunne,...  Brian Herzlinger  \n",
       "\n",
       "[860 rows x 4 columns]"
      ]
     },
     "execution_count": 10,
     "metadata": {},
     "output_type": "execute_result"
    }
   ],
   "source": [
    "# Get the records which still need correcting\n",
    "df_cast_rem = df_cast[df_cast['remainder'] != '']\n",
    "\n",
    "# One\n",
    "two = df_cast_rem[df_cast_rem['remainder'].apply(lambda x: len(x.split(' '))) == 2]\n",
    "two"
   ]
  },
  {
   "cell_type": "code",
   "execution_count": 14,
   "id": "109b64a2-ce2a-4bb2-8221-968e8baf264e",
   "metadata": {
    "tags": []
   },
   "outputs": [
    {
     "data": {
      "text/plain": [
       "10572"
      ]
     },
     "execution_count": 14,
     "metadata": {},
     "output_type": "execute_result"
    }
   ],
   "source": [
    "two_unique = two.remainder.unique().tolist()\n",
    "actor_list = actor_list + two_unique"
   ]
  },
  {
   "cell_type": "code",
   "execution_count": 15,
   "id": "936caeca-19cc-4e4f-a1ec-da812e3c0570",
   "metadata": {},
   "outputs": [],
   "source": [
    "import csv\n",
    "with open('actor_list.txt', 'w', encoding=\"utf-8\") as f:\n",
    "    write = csv.writer(f)\n",
    "    \n",
    "    write.writerow(actor_list)"
   ]
  },
  {
   "cell_type": "code",
   "execution_count": null,
   "id": "73dc0914-dc72-4b20-9c8a-8a9003366ff4",
   "metadata": {},
   "outputs": [],
   "source": []
  }
 ],
 "metadata": {
  "kernelspec": {
   "display_name": "Python 3",
   "language": "python",
   "name": "python3"
  },
  "language_info": {
   "codemirror_mode": {
    "name": "ipython",
    "version": 3
   },
   "file_extension": ".py",
   "mimetype": "text/x-python",
   "name": "python",
   "nbconvert_exporter": "python",
   "pygments_lexer": "ipython3",
   "version": "3.8.8"
  }
 },
 "nbformat": 4,
 "nbformat_minor": 5
}
