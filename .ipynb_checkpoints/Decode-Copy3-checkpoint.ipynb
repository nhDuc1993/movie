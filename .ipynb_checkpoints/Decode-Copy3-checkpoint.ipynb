{
 "cells": [
  {
   "cell_type": "code",
   "execution_count": 7,
   "id": "375d3946-2ff1-4b3b-862d-2a4624ae9590",
   "metadata": {},
   "outputs": [
    {
     "name": "stderr",
     "output_type": "stream",
     "text": [
      "<ipython-input-7-d478e313a375>:10: SettingWithCopyWarning: \n",
      "A value is trying to be set on a copy of a slice from a DataFrame.\n",
      "Try using .loc[row_indexer,col_indexer] = value instead\n",
      "\n",
      "See the caveats in the documentation: https://pandas.pydata.org/pandas-docs/stable/user_guide/indexing.html#returning-a-view-versus-a-copy\n",
      "  df_cast['cast'] = df['cast'].apply(lambda x: x.encode().decode(\"unicode-escape\") if type(x) != float else x)\n",
      "<ipython-input-7-d478e313a375>:11: SettingWithCopyWarning: \n",
      "A value is trying to be set on a copy of a slice from a DataFrame\n",
      "\n",
      "See the caveats in the documentation: https://pandas.pydata.org/pandas-docs/stable/user_guide/indexing.html#returning-a-view-versus-a-copy\n",
      "  df_cast.dropna(inplace=True)\n"
     ]
    }
   ],
   "source": [
    "import pandas as pd\n",
    "import re\n",
    "\n",
    "# Load data_set:\n",
    "df = pd.read_csv(r'C:\\Users\\ADMIN\\Desktop\\python\\project\\data\\movie_dataset.csv', encoding='UTF-8', engine='python')\n",
    "\n",
    "# Create df_cast dataframe\n",
    "\n",
    "df_cast = df[['id', 'cast']]\n",
    "df_cast['cast'] = df['cast'].apply(lambda x: x.encode().decode(\"unicode-escape\") if type(x) != float else x)\n",
    "df_cast.dropna(inplace=True)"
   ]
  },
  {
   "cell_type": "code",
   "execution_count": 8,
   "id": "e4a1cb70-7d92-4e7c-85a6-177c33edd3e2",
   "metadata": {
    "tags": []
   },
   "outputs": [],
   "source": [
    "f = open(\"actor_list.txt\", \"r\", encoding=\"utf-8\")\n",
    "actor_list = f.read().split(',')"
   ]
  },
  {
   "cell_type": "code",
   "execution_count": 9,
   "id": "adfa33b8-764d-47bc-b7b0-7507633956d2",
   "metadata": {
    "tags": []
   },
   "outputs": [],
   "source": [
    "actor_list = list(map(lambda x: x.strip(), actor_list))\n",
    "actor_list = sorted(actor_list, key=len, reverse=True)"
   ]
  },
  {
   "cell_type": "code",
   "execution_count": 10,
   "id": "affd6eac-b495-43ae-a14e-2a69b733bcc5",
   "metadata": {
    "tags": []
   },
   "outputs": [
    {
     "name": "stderr",
     "output_type": "stream",
     "text": [
      "<ipython-input-10-de67a10a1c90>:11: SettingWithCopyWarning: \n",
      "A value is trying to be set on a copy of a slice from a DataFrame.\n",
      "Try using .loc[row_indexer,col_indexer] = value instead\n",
      "\n",
      "See the caveats in the documentation: https://pandas.pydata.org/pandas-docs/stable/user_guide/indexing.html#returning-a-view-versus-a-copy\n",
      "  df_cast['cast_parsed'] = cast_parsed_list\n",
      "<ipython-input-10-de67a10a1c90>:20: SettingWithCopyWarning: \n",
      "A value is trying to be set on a copy of a slice from a DataFrame.\n",
      "Try using .loc[row_indexer,col_indexer] = value instead\n",
      "\n",
      "See the caveats in the documentation: https://pandas.pydata.org/pandas-docs/stable/user_guide/indexing.html#returning-a-view-versus-a-copy\n",
      "  df_cast['remainder'] = df_cast[['cast', 'cast_parsed']].apply(lambda x: remove_string(x['cast'], x['cast_parsed']), axis=1)\n"
     ]
    }
   ],
   "source": [
    "# Obtain list of actors that are available in actor_list\n",
    "cast_parsed_list = []\n",
    "for i in df_cast['cast']:\n",
    "    actor = []\n",
    "    for j in actor_list:\n",
    "        if j in i:\n",
    "            actor.append(j)\n",
    "            i = i.replace(j, '')\n",
    "\n",
    "    cast_parsed_list.append(actor)\n",
    "df_cast['cast_parsed'] = cast_parsed_list\n",
    "\n",
    "# Define functions to get the remainder\n",
    "def remove_string(string, string_list):\n",
    "    for i in string_list:\n",
    "        string = string.replace(i, '')\n",
    "\n",
    "    return string.strip()\n",
    "\n",
    "df_cast['remainder'] = df_cast[['cast', 'cast_parsed']].apply(lambda x: remove_string(x['cast'], x['cast_parsed']), axis=1)"
   ]
  },
  {
   "cell_type": "code",
   "execution_count": 12,
   "id": "ae98f261-a377-4743-93bf-88f3f54f1b70",
   "metadata": {
    "tags": []
   },
   "outputs": [
    {
     "data": {
      "text/html": [
       "<div>\n",
       "<style scoped>\n",
       "    .dataframe tbody tr th:only-of-type {\n",
       "        vertical-align: middle;\n",
       "    }\n",
       "\n",
       "    .dataframe tbody tr th {\n",
       "        vertical-align: top;\n",
       "    }\n",
       "\n",
       "    .dataframe thead th {\n",
       "        text-align: right;\n",
       "    }\n",
       "</style>\n",
       "<table border=\"1\" class=\"dataframe\">\n",
       "  <thead>\n",
       "    <tr style=\"text-align: right;\">\n",
       "      <th></th>\n",
       "      <th>id</th>\n",
       "      <th>cast</th>\n",
       "      <th>cast_parsed</th>\n",
       "      <th>remainder</th>\n",
       "    </tr>\n",
       "  </thead>\n",
       "  <tbody>\n",
       "    <tr>\n",
       "      <th>7</th>\n",
       "      <td>99861</td>\n",
       "      <td>Robert Downey Jr. Chris Hemsworth Mark Ruffalo...</td>\n",
       "      <td>[Scarlett Johansson, Chris Hemsworth, Mark Ruf...</td>\n",
       "      <td>Robert Downey Jr.</td>\n",
       "    </tr>\n",
       "    <tr>\n",
       "      <th>16</th>\n",
       "      <td>24428</td>\n",
       "      <td>Robert Downey Jr. Chris Evans Mark Ruffalo Chr...</td>\n",
       "      <td>[Scarlett Johansson, Chris Hemsworth, Mark Ruf...</td>\n",
       "      <td>Robert Downey Jr.</td>\n",
       "    </tr>\n",
       "    <tr>\n",
       "      <th>26</th>\n",
       "      <td>271110</td>\n",
       "      <td>Chris Evans Robert Downey Jr. Scarlett Johanss...</td>\n",
       "      <td>[Scarlett Johansson, Sebastian Stan, Anthony M...</td>\n",
       "      <td>Robert Downey Jr.</td>\n",
       "    </tr>\n",
       "    <tr>\n",
       "      <th>31</th>\n",
       "      <td>68721</td>\n",
       "      <td>Robert Downey Jr. Gwyneth Paltrow Don Cheadle ...</td>\n",
       "      <td>[Gwyneth Paltrow, Rebecca Hall, Don Cheadle, G...</td>\n",
       "      <td>Robert Downey Jr.</td>\n",
       "    </tr>\n",
       "    <tr>\n",
       "      <th>62</th>\n",
       "      <td>258489</td>\n",
       "      <td>Alexander Skarsgård Margot Robbie Christoph Wa...</td>\n",
       "      <td>[Alexander Skarsgård, Christoph Waltz, Djimon ...</td>\n",
       "      <td>Samuel L. Jackson</td>\n",
       "    </tr>\n",
       "    <tr>\n",
       "      <th>...</th>\n",
       "      <td>...</td>\n",
       "      <td>...</td>\n",
       "      <td>...</td>\n",
       "      <td>...</td>\n",
       "    </tr>\n",
       "    <tr>\n",
       "      <th>4342</th>\n",
       "      <td>347126</td>\n",
       "      <td>Hayley Orrantia Melissa Joan Hart Jesse Metcal...</td>\n",
       "      <td>[Melissa Joan Hart, Hayley Orrantia, Jesse Met...</td>\n",
       "      <td>David A.R. White</td>\n",
       "    </tr>\n",
       "    <tr>\n",
       "      <th>4426</th>\n",
       "      <td>248402</td>\n",
       "      <td>Luke Perry Anna Claire Sneed Leonor Varela</td>\n",
       "      <td>[Leonor Varela, Luke Perry]</td>\n",
       "      <td>Anna Claire Sneed</td>\n",
       "    </tr>\n",
       "    <tr>\n",
       "      <th>4439</th>\n",
       "      <td>157354</td>\n",
       "      <td>Michael B. Jordan Octavia Spencer Melonie Diaz...</td>\n",
       "      <td>[Octavia Spencer, Ahna O'Reilly, Kevin Durand,...</td>\n",
       "      <td>Michael B. Jordan</td>\n",
       "    </tr>\n",
       "    <tr>\n",
       "      <th>4467</th>\n",
       "      <td>838</td>\n",
       "      <td>Richard Dreyfuss Ron Howard Paul Le Mat Charle...</td>\n",
       "      <td>[Charles Martin Smith, Richard Dreyfuss, Cindy...</td>\n",
       "      <td>Paul Le Mat</td>\n",
       "    </tr>\n",
       "    <tr>\n",
       "      <th>4606</th>\n",
       "      <td>21525</td>\n",
       "      <td>Tupac Amaru Shakur</td>\n",
       "      <td>[]</td>\n",
       "      <td>Tupac Amaru Shakur</td>\n",
       "    </tr>\n",
       "  </tbody>\n",
       "</table>\n",
       "<p>264 rows × 4 columns</p>\n",
       "</div>"
      ],
      "text/plain": [
       "          id                                               cast  \\\n",
       "7      99861  Robert Downey Jr. Chris Hemsworth Mark Ruffalo...   \n",
       "16     24428  Robert Downey Jr. Chris Evans Mark Ruffalo Chr...   \n",
       "26    271110  Chris Evans Robert Downey Jr. Scarlett Johanss...   \n",
       "31     68721  Robert Downey Jr. Gwyneth Paltrow Don Cheadle ...   \n",
       "62    258489  Alexander Skarsgård Margot Robbie Christoph Wa...   \n",
       "...      ...                                                ...   \n",
       "4342  347126  Hayley Orrantia Melissa Joan Hart Jesse Metcal...   \n",
       "4426  248402         Luke Perry Anna Claire Sneed Leonor Varela   \n",
       "4439  157354  Michael B. Jordan Octavia Spencer Melonie Diaz...   \n",
       "4467     838  Richard Dreyfuss Ron Howard Paul Le Mat Charle...   \n",
       "4606   21525                                 Tupac Amaru Shakur   \n",
       "\n",
       "                                            cast_parsed           remainder  \n",
       "7     [Scarlett Johansson, Chris Hemsworth, Mark Ruf...   Robert Downey Jr.  \n",
       "16    [Scarlett Johansson, Chris Hemsworth, Mark Ruf...   Robert Downey Jr.  \n",
       "26    [Scarlett Johansson, Sebastian Stan, Anthony M...   Robert Downey Jr.  \n",
       "31    [Gwyneth Paltrow, Rebecca Hall, Don Cheadle, G...   Robert Downey Jr.  \n",
       "62    [Alexander Skarsgård, Christoph Waltz, Djimon ...   Samuel L. Jackson  \n",
       "...                                                 ...                 ...  \n",
       "4342  [Melissa Joan Hart, Hayley Orrantia, Jesse Met...    David A.R. White  \n",
       "4426                        [Leonor Varela, Luke Perry]   Anna Claire Sneed  \n",
       "4439  [Octavia Spencer, Ahna O'Reilly, Kevin Durand,...   Michael B. Jordan  \n",
       "4467  [Charles Martin Smith, Richard Dreyfuss, Cindy...         Paul Le Mat  \n",
       "4606                                                 []  Tupac Amaru Shakur  \n",
       "\n",
       "[264 rows x 4 columns]"
      ]
     },
     "execution_count": 12,
     "metadata": {},
     "output_type": "execute_result"
    }
   ],
   "source": [
    "# Get the records which still need correcting\n",
    "df_cast_rem = df_cast[df_cast['remainder'] != '']\n",
    "\n",
    "# One\n",
    "three = df_cast_rem[df_cast_rem['remainder'].apply(lambda x: len(x.split(' '))) == 3]\n",
    "three"
   ]
  },
  {
   "cell_type": "code",
   "execution_count": 14,
   "id": "109b64a2-ce2a-4bb2-8221-968e8baf264e",
   "metadata": {
    "tags": []
   },
   "outputs": [
    {
     "data": {
      "text/plain": [
       "10695"
      ]
     },
     "execution_count": 14,
     "metadata": {},
     "output_type": "execute_result"
    }
   ],
   "source": [
    "three_unique = three.remainder.unique().tolist()\n",
    "actor_list = actor_list + three_unique\n",
    "len(actor_list)"
   ]
  },
  {
   "cell_type": "code",
   "execution_count": null,
   "id": "936caeca-19cc-4e4f-a1ec-da812e3c0570",
   "metadata": {},
   "outputs": [],
   "source": [
    "import csv\n",
    "with open('actor_list.txt', 'w', encoding=\"utf-8\") as f:\n",
    "    write = csv.writer(f)\n",
    "    \n",
    "    write.writerow(actor_list)"
   ]
  },
  {
   "cell_type": "code",
   "execution_count": null,
   "id": "73dc0914-dc72-4b20-9c8a-8a9003366ff4",
   "metadata": {},
   "outputs": [],
   "source": []
  }
 ],
 "metadata": {
  "kernelspec": {
   "display_name": "Python 3",
   "language": "python",
   "name": "python3"
  },
  "language_info": {
   "codemirror_mode": {
    "name": "ipython",
    "version": 3
   },
   "file_extension": ".py",
   "mimetype": "text/x-python",
   "name": "python",
   "nbconvert_exporter": "python",
   "pygments_lexer": "ipython3",
   "version": "3.8.8"
  }
 },
 "nbformat": 4,
 "nbformat_minor": 5
}
