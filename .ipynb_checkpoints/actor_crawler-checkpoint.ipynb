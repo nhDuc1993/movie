{
 "cells": [
  {
   "cell_type": "code",
   "execution_count": 1,
   "id": "bec6b7ad-dc64-47fa-b0d4-ca7156c25f57",
   "metadata": {},
   "outputs": [],
   "source": [
    "# Import libraries:\n",
    "\n",
    "import time\n",
    "from bs4 import BeautifulSoup\n",
    "\n",
    "import requests\n",
    "import json\n",
    "\n",
    "import string"
   ]
  },
  {
   "cell_type": "code",
   "execution_count": 2,
   "id": "1399d152-d958-420a-aa2c-fcae961bacdd",
   "metadata": {},
   "outputs": [],
   "source": [
    "# Define crawling function:\n",
    "\n",
    "def imbd_crawl(url, headers):\n",
    "    res = requests.request(\"GET\", url, headers=headers)\n",
    "    \n",
    "    soup = BeautifulSoup(res.text, 'html.parser')\n",
    "    \n",
    "    lst = []\n",
    "    \n",
    "    for i in soup.find_all(\"h3\", {\"class\" : \"lister-item-header\"}):\n",
    "        lst.append(i.text.split(\".\")[-1].strip(\" \\n\"))\n",
    "    \n",
    "    return lst"
   ]
  },
  {
   "cell_type": "code",
   "execution_count": 3,
   "id": "99203dbf-c596-40df-966b-d85a93f3494d",
   "metadata": {
    "tags": []
   },
   "outputs": [],
   "source": [
    "# Crawling data:\n",
    "\n",
    "actor_list = []\n",
    "error = []\n",
    "for i in range(1, 10001, 50):\n",
    "    try:\n",
    "        url = \"https://www.imdb.com/search/name/?gender=male,female&start={}&ref_=rlm\".format(str(i))\n",
    "        headers = {\"User-Agent\": 'Mozilla/5.0 (Windows NT 10.0; Win64; x64) AppleWebKit/537.36 (KHTML, like Gecko) Chrome/91.0.4472.124 Safari/537.36'}\n",
    "    except:\n",
    "        error.append[i]\n",
    "\n",
    "    actor_list += imbd_crawl(url, headers)"
   ]
  },
  {
   "cell_type": "code",
   "execution_count": 7,
   "id": "8e07b10f-7e40-4f0d-a672-7bb9c68a7a29",
   "metadata": {
    "tags": []
   },
   "outputs": [],
   "source": [
    "# Export to a flat file:\n",
    "\n",
    "import csv\n",
    "with open('actor_list.txt', 'w', encoding=\"utf-8\") as f:\n",
    "    write = csv.writer(f)\n",
    "    \n",
    "    write.writerow(actor_list)"
   ]
  },
  {
   "cell_type": "code",
   "execution_count": null,
   "id": "974fb958-f779-4f08-87b2-569a493d2adb",
   "metadata": {},
   "outputs": [],
   "source": []
  }
 ],
 "metadata": {
  "kernelspec": {
   "display_name": "Python 3",
   "language": "python",
   "name": "python3"
  },
  "language_info": {
   "codemirror_mode": {
    "name": "ipython",
    "version": 3
   },
   "file_extension": ".py",
   "mimetype": "text/x-python",
   "name": "python",
   "nbconvert_exporter": "python",
   "pygments_lexer": "ipython3",
   "version": "3.8.8"
  }
 },
 "nbformat": 4,
 "nbformat_minor": 5
}
