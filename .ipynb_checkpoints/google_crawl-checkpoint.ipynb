{
 "cells": [
  {
   "cell_type": "code",
   "execution_count": null,
   "id": "094297d6-db71-4f52-b6d1-df56ddf2491b",
   "metadata": {},
   "outputs": [],
   "source": [
    "# Import libraries:\n",
    "from bs4 import BeautifulSoup\n",
    "import requests\n",
    "import re"
   ]
  },
  {
   "cell_type": "code",
   "execution_count": null,
   "id": "17b672a4-c676-49e0-9908-4b72969a9f71",
   "metadata": {
    "tags": []
   },
   "outputs": [],
   "source": [
    "# Load dataset\n",
    "\n",
    "import pandas as pd\n",
    "crawl = pd.read_csv(r'C:\\Users\\ADMIN\\Desktop\\python\\project\\crawl.csv', encoding='UTF-8', engine='python')\n",
    "crawl"
   ]
  },
  {
   "cell_type": "code",
   "execution_count": null,
   "id": "7e37c8a5-bfc9-4209-953c-1b2e64a251c2",
   "metadata": {},
   "outputs": [],
   "source": [
    "crawl_missing = crawl[(crawl['budget'] == 0) | (crawl['revenue'] == 0)]\n",
    "crawl_missing"
   ]
  },
  {
   "cell_type": "code",
   "execution_count": null,
   "id": "b020bc71-9875-45d0-b938-5b6609334e56",
   "metadata": {},
   "outputs": [],
   "source": [
    "def google_crawl(id, title, year):\n",
    "    headers = {\"User-Agent\": 'Mozilla/5.0 (Windows NT 10.0; Win64; x64) AppleWebKit/537.36 (KHTML, like Gecko) Chrome/91.0.4472.124 Safari/537.36'}\n",
    "    \n",
    "    #budget\n",
    "    budget = 0\n",
    "    query = (title + ' ' + year + ' budget').replace(' ', '%20')\n",
    "    url = \"https://google.com/search?q={}\".format(query)\n",
    "    res = requests.request(\"GET\", url, headers=headers)\n",
    "    soup = BeautifulSoup(res.text, 'html.parser')\n",
    "    try:\n",
    "        budget = soup.find(\"div\", {'class': \"Z0LcW XcVN5d\"}).text\n",
    "    except:\n",
    "        pass\n",
    "    \n",
    "    #revenue\n",
    "    revenue = 0\n",
    "    query = (title + ' ' + year + ' box office').replace(' ', '%20')\n",
    "    url = \"https://google.com/search?q={}\".format(query)\n",
    "    res = requests.request(\"GET\", url, headers=headers)\n",
    "    soup = BeautifulSoup(res.text, 'html.parser')\n",
    "    try:\n",
    "        revenue = soup.find(\"div\", {'class': \"Z0LcW XcVN5d\"}).text\n",
    "    except:\n",
    "        pass\n",
    "    \n",
    "    result = pd.DataFrame({'id' : id, 'title': title, 'year' : year, 'budget': budget, 'revenue': revenue}, index=[0])\n",
    "    result.to_csv(r'C:\\Users\\ADMIN\\Desktop\\python\\project\\crawl\\{}.csv'.format(id))"
   ]
  },
  {
   "cell_type": "code",
   "execution_count": null,
   "id": "a1e526c6-dcdb-4683-83e4-b33d545cd074",
   "metadata": {
    "tags": []
   },
   "outputs": [],
   "source": [
    "for i in crawl_missing.index[40:]:\n",
    "    google_crawl(crawl_missing.loc[i, 'id'], crawl_missing.loc[i, 'title'] ,str(crawl_missing.loc[i, 'year']))"
   ]
  },
  {
   "cell_type": "code",
   "execution_count": null,
   "id": "1c1190f7-7dec-4ae8-8484-471f092e6ffc",
   "metadata": {
    "tags": []
   },
   "outputs": [],
   "source": [
    "import os\n",
    "import glob\n",
    "\n",
    "os.chdir(r\"C:\\Users\\ADMIN\\Desktop\\python\\project\\crawl\")\n",
    "\n",
    "extension = 'csv'\n",
    "all_filenames = [i for i in glob.glob('*.{}'.format(extension))]\n",
    "combined_csv = pd.concat([pd.read_csv(f) for f in all_filenames ])\n",
    "combined_csv.drop('Unnamed: 0', axis = 1, inplace=True)\n",
    "combined_csv"
   ]
  },
  {
   "cell_type": "code",
   "execution_count": null,
   "id": "9809c9b0-ff41-4f6a-a4cd-e3f4a36027e9",
   "metadata": {},
   "outputs": [],
   "source": [
    "def transform(string):\n",
    "    string = string.replace('\\xa0', ' ')\n",
    "    l = string.split(\" \")\n",
    "    value = l[0]\n",
    "    value = value.replace('.', '')\n",
    "    value = value.replace(',', '.')\n",
    "    if \"triệu\" in string:\n",
    "        value = float(value) * 100000\n",
    "    \n",
    "    return value\n",
    "\n",
    "combined_csv['budget'] = combined_csv['budget'].apply(lambda x: transform(x) if x != 0 else x)\n",
    "combined_csv['revenue'] = combined_csv['revenue'].apply(lambda x: transform(x) if x != 0 else x)"
   ]
  },
  {
   "cell_type": "code",
   "execution_count": null,
   "id": "22ac680d-b9ec-4929-8660-3d3057bdc65f",
   "metadata": {},
   "outputs": [],
   "source": [
    "combined_csv.to_csv(r'C:\\Users\\ADMIN\\Desktop\\python\\project\\google_crawl.csv', index=False)"
   ]
  },
  {
   "cell_type": "code",
   "execution_count": null,
   "id": "57338dee-70b4-435c-9a9a-b6e55ead0dd6",
   "metadata": {},
   "outputs": [],
   "source": []
  }
 ],
 "metadata": {
  "kernelspec": {
   "display_name": "Python 3",
   "language": "python",
   "name": "python3"
  },
  "language_info": {
   "codemirror_mode": {
    "name": "ipython",
    "version": 3
   },
   "file_extension": ".py",
   "mimetype": "text/x-python",
   "name": "python",
   "nbconvert_exporter": "python",
   "pygments_lexer": "ipython3",
   "version": "3.8.8"
  }
 },
 "nbformat": 4,
 "nbformat_minor": 5
}
