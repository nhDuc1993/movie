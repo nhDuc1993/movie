{
 "cells": [
  {
   "cell_type": "code",
   "execution_count": 3,
   "id": "bec6b7ad-dc64-47fa-b0d4-ca7156c25f57",
   "metadata": {},
   "outputs": [],
   "source": [
    "# Import libraries:\n",
    "from bs4 import BeautifulSoup\n",
    "import requests\n",
    "import re"
   ]
  },
  {
   "cell_type": "code",
   "execution_count": 4,
   "id": "974fb958-f779-4f08-87b2-569a493d2adb",
   "metadata": {
    "tags": []
   },
   "outputs": [],
   "source": [
    "# Load dataset\n",
    "\n",
    "import pandas as pd\n",
    "\n",
    "pd.set_option('display.max_columns', None)\n",
    "\n",
    "df = pd.read_csv(r'C:\\Users\\ADMIN\\Desktop\\python\\project\\data\\movie_dataset.csv', encoding='UTF-8', engine='python', index_col='index')"
   ]
  },
  {
   "cell_type": "code",
   "execution_count": 5,
   "id": "158a8217-6327-4e62-b245-9618bea153a0",
   "metadata": {},
   "outputs": [],
   "source": [
    "# Decode unicode characters\n",
    "import unicodedata\n",
    "\n",
    "for i in df.columns:\n",
    "    if df[i].dtypes == 'object':\n",
    "        df[i] = df[i].apply(lambda x: unicodedata.normalize('NFKD', x).encode('ascii', 'ignore').decode() if type(x) == str else x)"
   ]
  },
  {
   "cell_type": "code",
   "execution_count": 6,
   "id": "ee61fb30-0d70-4917-960f-e2b2a2241595",
   "metadata": {
    "tags": []
   },
   "outputs": [],
   "source": [
    "# Extract missing budget-revenue information\n",
    "\n",
    "df_missing = df[['id', 'budget', 'title', 'revenue', 'release_date']][(df['budget'] == 0) | (df['revenue'] == 0)]\n",
    "df_missing['year'] = df_missing['release_date'].apply(lambda x: x[:4] if type(x) != float else x)\n",
    "df_missing.dropna(inplace=True)"
   ]
  },
  {
   "cell_type": "code",
   "execution_count": 7,
   "id": "a7139df1-cff6-4ab0-8a64-344b5f5ddb9f",
   "metadata": {},
   "outputs": [],
   "source": [
    "# Define crawling functions:\n",
    "def sub_link(title):\n",
    "    rx = re.compile('[.\\',:]')\n",
    "    title = rx.sub('', title)\n",
    "    title = title.replace('&', 'and')\n",
    "    title_split = title.split(' ')\n",
    "    if title_split[0].upper() in [\"THE\", \"A\"]:\n",
    "        link = '-'.join(title_split[1:] + [title_split[0]])\n",
    "    else:\n",
    "        link = '-'.join(title_split)\n",
    "    \n",
    "    return link\n",
    "\n",
    "\n",
    "def sub_link_with_year(title, year):\n",
    "    rx = re.compile('[.\\',:]')\n",
    "    title = rx.sub('', title)\n",
    "    title = title.replace('&', 'and')\n",
    "    title_split = title.split(' ')\n",
    "    if title_split[0].upper() in [\"THE\", \"A\"]:\n",
    "        sub_link_with_year = '-'.join(title_split[1:] + [title_split[0]] + ['(' + year + ')'])\n",
    "    else:\n",
    "        sub_link_with_year = '-'.join(title_split + ['(' + year + ')'])\n",
    "    \n",
    "    return sub_link_with_year\n",
    "\n",
    "\n",
    "def the_numbers_crawl(id, title, year, sub_link):\n",
    "    \n",
    "    url = \"https://www.the-numbers.com/movie/{}#tab=summary\".format(sub_link)\n",
    "    headers = {\"User-Agent\": 'Mozilla/5.0 (Windows NT 10.0; Win64; x64) AppleWebKit/537.36 (KHTML, like Gecko) Chrome/91.0.4472.124 Safari/537.36'}\n",
    "\n",
    "    res = requests.request(\"GET\", url, headers=headers)\n",
    "    \n",
    "    soup = BeautifulSoup(res.text, 'html.parser')\n",
    "    \n",
    "    summary = soup.select('tr > td')\n",
    "    \n",
    "    budget = 0\n",
    "    \n",
    "    revenue = 0\n",
    "\n",
    "    for idx, s in enumerate(summary):\n",
    "        if s.text in ['Worldwide Box Office', 'Domestic Box Office']:\n",
    "            text = summary[idx+1].text.replace(',', '').replace('$', '')\n",
    "            try:\n",
    "                revenue = int(text.split(\" \")[0])\n",
    "            except:\n",
    "                continue\n",
    "\n",
    "        if s.text == 'Production\\xa0Budget:':\n",
    "            text = summary[idx+1].text.replace(',', '').replace('$', '')\n",
    "            try:\n",
    "                budget = int(text.split(\" \")[0])\n",
    "            except:\n",
    "                continue\n",
    "            break\n",
    "    \n",
    "    return {'id': id,\n",
    "            'title': title,\n",
    "            'year' : year,\n",
    "            'budget': budget,\n",
    "            'revenue': revenue}"
   ]
  },
  {
   "cell_type": "code",
   "execution_count": 8,
   "id": "78b5959b-78a0-425b-98ff-fc0e149237ba",
   "metadata": {},
   "outputs": [],
   "source": [
    "result = pd.DataFrame(columns = ['id', 'title', 'year', 'budget', 'revenue'])"
   ]
  },
  {
   "cell_type": "code",
   "execution_count": 11,
   "id": "e1121014-30b3-40a4-8959-f013db211830",
   "metadata": {
    "tags": []
   },
   "outputs": [],
   "source": [
    "for i in df_missing.index:\n",
    "    title = df_missing.loc[i, 'title']\n",
    "    year = df_missing.loc[i, 'year']\n",
    "    link = sub_link(title)\n",
    "    crawl_data = the_numbers_crawl(i, title, year, link)\n",
    "    if crawl_data['budget'] == 0 and crawl_data['revenue'] == 0: \n",
    "        title = df_missing.loc[i, 'title']\n",
    "        year = df_missing.loc[i, 'year']\n",
    "        link = sub_link_with_year(title, year)\n",
    "        result = result.append(the_numbers_crawl(i, title, year, link), ignore_index=True)\n",
    "    else:\n",
    "        result = result.append(the_numbers_crawl(i, title, year, link), ignore_index=True)"
   ]
  },
  {
   "cell_type": "code",
   "execution_count": 12,
   "id": "8e07b10f-7e40-4f0d-a672-7bb9c68a7a29",
   "metadata": {
    "tags": []
   },
   "outputs": [],
   "source": [
    "# Export to a flat file:\n",
    "\n",
    "result.to_csv('crawl.csv', index=False)"
   ]
  },
  {
   "cell_type": "code",
   "execution_count": null,
   "id": "982f75ee-46cf-4a50-aef9-3a24b687f3ac",
   "metadata": {},
   "outputs": [],
   "source": []
  }
 ],
 "metadata": {
  "kernelspec": {
   "display_name": "Python 3",
   "language": "python",
   "name": "python3"
  },
  "language_info": {
   "codemirror_mode": {
    "name": "ipython",
    "version": 3
   },
   "file_extension": ".py",
   "mimetype": "text/x-python",
   "name": "python",
   "nbconvert_exporter": "python",
   "pygments_lexer": "ipython3",
   "version": "3.8.8"
  }
 },
 "nbformat": 4,
 "nbformat_minor": 5
}
