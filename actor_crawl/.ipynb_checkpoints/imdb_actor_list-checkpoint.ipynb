{
 "cells": [
  {
   "cell_type": "code",
   "execution_count": 12,
   "id": "90bcac97-cedf-481e-b812-987d3695a8c5",
   "metadata": {},
   "outputs": [],
   "source": [
    "# Import libraries\n",
    "import pandas as pd\n",
    "import csv"
   ]
  },
  {
   "cell_type": "code",
   "execution_count": 13,
   "id": "5565590b-101c-42dc-b407-ba992d2815c5",
   "metadata": {
    "tags": []
   },
   "outputs": [],
   "source": [
    "# Load dataset\n",
    "filepath = r'C:\\Users\\ADMIN\\Desktop\\python\\project'\n",
    "\n",
    "df = pd.read_csv(filepath + r'\\data\\imdb_dataset.tsv', sep='\\t', usecols=[\"primaryName\", \"primaryProfession\"])\n",
    "df = df.dropna()"
   ]
  },
  {
   "cell_type": "code",
   "execution_count": 14,
   "id": "308ebb1f-843a-4a72-8f94-b944085ac076",
   "metadata": {
    "tags": []
   },
   "outputs": [
    {
     "data": {
      "text/plain": [
       "4070857"
      ]
     },
     "execution_count": 14,
     "metadata": {},
     "output_type": "execute_result"
    }
   ],
   "source": [
    "# Get actors'/actress' names\n",
    "actor_list = df[df['primaryProfession'].apply(lambda x: True if ('actress' in x) or ('actor' in x) else False)]\n",
    "actor_list = actor_list['primaryName'].to_list()\n",
    "len(actor_list)"
   ]
  },
  {
   "cell_type": "code",
   "execution_count": null,
   "id": "3f7c9a7d-b4b9-4ff2-adae-7fce69b38129",
   "metadata": {},
   "outputs": [],
   "source": [
    "# Export to txt file\n",
    "filepath = r\"C:\\Users\\ADMIN\\Desktop\\python\\project\"\n",
    "\n",
    "with open(filepath + r'\\actor_crawl\\imdb_actor_list\\imdb_actor_list.txt', 'w', encoding=\"utf-8\") as f:\n",
    "    write = csv.writer(f)\n",
    "    write.writerow(actor_list)"
   ]
  },
  {
   "cell_type": "code",
   "execution_count": null,
   "id": "fb2edbf0-4b05-4684-834b-71aad01bd4b5",
   "metadata": {},
   "outputs": [],
   "source": []
  }
 ],
 "metadata": {
  "kernelspec": {
   "display_name": "Python 3",
   "language": "python",
   "name": "python3"
  },
  "language_info": {
   "codemirror_mode": {
    "name": "ipython",
    "version": 3
   },
   "file_extension": ".py",
   "mimetype": "text/x-python",
   "name": "python",
   "nbconvert_exporter": "python",
   "pygments_lexer": "ipython3",
   "version": "3.8.8"
  }
 },
 "nbformat": 4,
 "nbformat_minor": 5
}
