{
 "cells": [
  {
   "cell_type": "code",
   "execution_count": 35,
   "id": "d7b14854-4bcb-4695-9f1f-54cba75d0c07",
   "metadata": {},
   "outputs": [
    {
     "name": "stderr",
     "output_type": "stream",
     "text": [
      "<ipython-input-35-2d62189e33fb>:10: SettingWithCopyWarning: \n",
      "A value is trying to be set on a copy of a slice from a DataFrame\n",
      "\n",
      "See the caveats in the documentation: https://pandas.pydata.org/pandas-docs/stable/user_guide/indexing.html#returning-a-view-versus-a-copy\n",
      "  df_cast.dropna(inplace=True)\n"
     ]
    }
   ],
   "source": [
    "import pandas as pd\n",
    "import re\n",
    "\n",
    "# Load data_set:\n",
    "filepath = r'C:\\Users\\ADMIN\\Desktop\\python\\project'\n",
    "df = pd.read_csv(filepath + r'\\clean_data\\fact_movie.csv', encoding='UTF-8', engine='python')\n",
    "\n",
    "# Create df_cast dataframe\n",
    "df_cast = df[['id', 'cast']]\n",
    "df_cast.dropna(inplace=True)"
   ]
  },
  {
   "cell_type": "code",
   "execution_count": 36,
   "id": "e4a1cb70-7d92-4e7c-85a6-177c33edd3e2",
   "metadata": {
    "tags": []
   },
   "outputs": [],
   "source": [
    "# Load imdb_actor_list file\n",
    "\n",
    "filepath = r'C:\\Users\\ADMIN\\Desktop\\python\\project'\n",
    "f = open('new_actor_list.txt', \"r\", encoding=\"utf-8\")\n",
    "new_actor_list = f.read().split(',')"
   ]
  },
  {
   "cell_type": "code",
   "execution_count": 24,
   "id": "adfa33b8-764d-47bc-b7b0-7507633956d2",
   "metadata": {
    "tags": []
   },
   "outputs": [],
   "source": [
    "# Sort list and get the names over 2 words only\n",
    "\n",
    "new_actor_list = list(map(lambda x: x.strip(), new_actor_list))\n",
    "new_actor_list = sorted(new_actor_list, key=len, reverse=True)"
   ]
  },
  {
   "cell_type": "code",
   "execution_count": 25,
   "id": "affd6eac-b495-43ae-a14e-2a69b733bcc5",
   "metadata": {
    "tags": []
   },
   "outputs": [
    {
     "name": "stderr",
     "output_type": "stream",
     "text": [
      "<ipython-input-25-faa8cc196cbc>:13: SettingWithCopyWarning: \n",
      "A value is trying to be set on a copy of a slice from a DataFrame.\n",
      "Try using .loc[row_indexer,col_indexer] = value instead\n",
      "\n",
      "See the caveats in the documentation: https://pandas.pydata.org/pandas-docs/stable/user_guide/indexing.html#returning-a-view-versus-a-copy\n",
      "  df_cast['cast_parsed'] = cast_parsed_list\n",
      "<ipython-input-25-faa8cc196cbc>:22: SettingWithCopyWarning: \n",
      "A value is trying to be set on a copy of a slice from a DataFrame.\n",
      "Try using .loc[row_indexer,col_indexer] = value instead\n",
      "\n",
      "See the caveats in the documentation: https://pandas.pydata.org/pandas-docs/stable/user_guide/indexing.html#returning-a-view-versus-a-copy\n",
      "  df_cast['remainder'] = df_cast[['cast', 'cast_parsed']].apply(lambda x: remove_string(x['cast'], x['cast_parsed']), axis=1)\n"
     ]
    }
   ],
   "source": [
    "# Obtain list of actors that are available in actor_list\n",
    "cast_parsed_list = []\n",
    "for i in df_cast['cast']:\n",
    "    actor = []\n",
    "    for j in new_actor_list:\n",
    "        if j in i:\n",
    "            actor.append(j)\n",
    "            i = i.replace(j, '')\n",
    "            if i.strip() == '':\n",
    "                break\n",
    "\n",
    "    cast_parsed_list.append(actor)\n",
    "df_cast['cast_parsed'] = cast_parsed_list\n",
    "\n",
    "# Define functions to get the remainder\n",
    "def remove_string(string, string_list):\n",
    "    for i in string_list:\n",
    "        string = string.replace(i, '')\n",
    "\n",
    "    return string.strip()\n",
    "\n",
    "df_cast['remainder'] = df_cast[['cast', 'cast_parsed']].apply(lambda x: remove_string(x['cast'], x['cast_parsed']), axis=1)"
   ]
  },
  {
   "cell_type": "code",
   "execution_count": 26,
   "id": "213ed3b0-8d11-483c-abf3-253f69e37968",
   "metadata": {},
   "outputs": [],
   "source": [
    "new_actor_list = []\n",
    "for i in df_cast['cast_parsed']:\n",
    "    new_actor_list = new_actor_list + i"
   ]
  },
  {
   "cell_type": "code",
   "execution_count": 27,
   "id": "ae98f261-a377-4743-93bf-88f3f54f1b70",
   "metadata": {
    "tags": []
   },
   "outputs": [],
   "source": [
    "# Get the records which still need correcting\n",
    "df_cast_rem = df_cast[df_cast['remainder'] != '']"
   ]
  },
  {
   "cell_type": "code",
   "execution_count": 28,
   "id": "c6859605-4b75-43d6-9e62-0040bfef5ff9",
   "metadata": {
    "tags": []
   },
   "outputs": [
    {
     "data": {
      "text/html": [
       "<div>\n",
       "<style scoped>\n",
       "    .dataframe tbody tr th:only-of-type {\n",
       "        vertical-align: middle;\n",
       "    }\n",
       "\n",
       "    .dataframe tbody tr th {\n",
       "        vertical-align: top;\n",
       "    }\n",
       "\n",
       "    .dataframe thead th {\n",
       "        text-align: right;\n",
       "    }\n",
       "</style>\n",
       "<table border=\"1\" class=\"dataframe\">\n",
       "  <thead>\n",
       "    <tr style=\"text-align: right;\">\n",
       "      <th></th>\n",
       "      <th>id</th>\n",
       "      <th>cast</th>\n",
       "      <th>cast_parsed</th>\n",
       "      <th>remainder</th>\n",
       "    </tr>\n",
       "  </thead>\n",
       "  <tbody>\n",
       "    <tr>\n",
       "      <th>345</th>\n",
       "      <td>5175</td>\n",
       "      <td>Chris Tucker Jackie Chan Zhang Ziyi Roselyn Sánchez Ernie Reyes, Jr.</td>\n",
       "      <td>[Roselyn Sánchez, Chris Tucker, Jackie Chan, Ernie Reyes, Zhang Ziyi]</td>\n",
       "      <td>, Jr.</td>\n",
       "    </tr>\n",
       "    <tr>\n",
       "      <th>402</th>\n",
       "      <td>10159</td>\n",
       "      <td>Dwayne Johnson Seann William Scott Rosario Dawson Christopher Walken Ernie Reyes, Jr.</td>\n",
       "      <td>[Seann William Scott, Christopher Walken, Dwayne Johnson, Rosario Dawson, Ernie Reyes]</td>\n",
       "      <td>, Jr.</td>\n",
       "    </tr>\n",
       "    <tr>\n",
       "      <th>1379</th>\n",
       "      <td>1883</td>\n",
       "      <td>Denzel Washington Angela Bassett Albert Hall Al Freeman, Jr. Delroy Lindo</td>\n",
       "      <td>[Denzel Washington, Angela Bassett, Delroy Lindo, Albert Hall, Al Freeman]</td>\n",
       "      <td>, Jr.</td>\n",
       "    </tr>\n",
       "    <tr>\n",
       "      <th>2199</th>\n",
       "      <td>42618</td>\n",
       "      <td>Shirley MacLaine John McMartin Ricardo Montalban Sammy Davis, Jr. Chita Rivera</td>\n",
       "      <td>[Ricardo Montalban, Shirley MacLaine, John McMartin, Chita Rivera, Sammy Davis]</td>\n",
       "      <td>, Jr.</td>\n",
       "    </tr>\n",
       "    <tr>\n",
       "      <th>2358</th>\n",
       "      <td>9626</td>\n",
       "      <td>Arnold Schwarzenegger Brigitte Nielsen Sandahl Bergman Paul L. Smith Ernie Reyes, Jr.</td>\n",
       "      <td>[Arnold Schwarzenegger, Brigitte Nielsen, Sandahl Bergman, Paul L. Smith, Ernie Reyes]</td>\n",
       "      <td>, Jr.</td>\n",
       "    </tr>\n",
       "    <tr>\n",
       "      <th>2529</th>\n",
       "      <td>14736</td>\n",
       "      <td>Chris Warren, Jr. Kyla Pratt Sanaa Lathan Omar Epps Alfre Woodard</td>\n",
       "      <td>[Alfre Woodard, Sanaa Lathan, Chris Warren, Kyla Pratt, Omar Epps]</td>\n",
       "      <td>, Jr.</td>\n",
       "    </tr>\n",
       "    <tr>\n",
       "      <th>2573</th>\n",
       "      <td>7874</td>\n",
       "      <td>Samuel L. Jackson Christina Ricci Justin Timberlake S. Epatha Merkerson John Cothran, Jr.</td>\n",
       "      <td>[S. Epatha Merkerson, Samuel L. Jackson, Justin Timberlake, Christina Ricci, John Cothran]</td>\n",
       "      <td>, Jr.</td>\n",
       "    </tr>\n",
       "    <tr>\n",
       "      <th>3992</th>\n",
       "      <td>13909</td>\n",
       "      <td>John Wayne Joanne Dru John Agar Ben Johnson Harry Carey, Jr.</td>\n",
       "      <td>[Ben Johnson, Harry Carey, John Wayne, Joanne Dru, John Agar]</td>\n",
       "      <td>, Jr.</td>\n",
       "    </tr>\n",
       "  </tbody>\n",
       "</table>\n",
       "</div>"
      ],
      "text/plain": [
       "         id  \\\n",
       "345    5175   \n",
       "402   10159   \n",
       "1379   1883   \n",
       "2199  42618   \n",
       "2358   9626   \n",
       "2529  14736   \n",
       "2573   7874   \n",
       "3992  13909   \n",
       "\n",
       "                                                                                           cast  \\\n",
       "345                        Chris Tucker Jackie Chan Zhang Ziyi Roselyn Sánchez Ernie Reyes, Jr.   \n",
       "402       Dwayne Johnson Seann William Scott Rosario Dawson Christopher Walken Ernie Reyes, Jr.   \n",
       "1379                  Denzel Washington Angela Bassett Albert Hall Al Freeman, Jr. Delroy Lindo   \n",
       "2199             Shirley MacLaine John McMartin Ricardo Montalban Sammy Davis, Jr. Chita Rivera   \n",
       "2358      Arnold Schwarzenegger Brigitte Nielsen Sandahl Bergman Paul L. Smith Ernie Reyes, Jr.   \n",
       "2529                          Chris Warren, Jr. Kyla Pratt Sanaa Lathan Omar Epps Alfre Woodard   \n",
       "2573  Samuel L. Jackson Christina Ricci Justin Timberlake S. Epatha Merkerson John Cothran, Jr.   \n",
       "3992                               John Wayne Joanne Dru John Agar Ben Johnson Harry Carey, Jr.   \n",
       "\n",
       "                                                                                     cast_parsed  \\\n",
       "345                        [Roselyn Sánchez, Chris Tucker, Jackie Chan, Ernie Reyes, Zhang Ziyi]   \n",
       "402       [Seann William Scott, Christopher Walken, Dwayne Johnson, Rosario Dawson, Ernie Reyes]   \n",
       "1379                  [Denzel Washington, Angela Bassett, Delroy Lindo, Albert Hall, Al Freeman]   \n",
       "2199             [Ricardo Montalban, Shirley MacLaine, John McMartin, Chita Rivera, Sammy Davis]   \n",
       "2358      [Arnold Schwarzenegger, Brigitte Nielsen, Sandahl Bergman, Paul L. Smith, Ernie Reyes]   \n",
       "2529                          [Alfre Woodard, Sanaa Lathan, Chris Warren, Kyla Pratt, Omar Epps]   \n",
       "2573  [S. Epatha Merkerson, Samuel L. Jackson, Justin Timberlake, Christina Ricci, John Cothran]   \n",
       "3992                               [Ben Johnson, Harry Carey, John Wayne, Joanne Dru, John Agar]   \n",
       "\n",
       "     remainder  \n",
       "345      , Jr.  \n",
       "402      , Jr.  \n",
       "1379     , Jr.  \n",
       "2199     , Jr.  \n",
       "2358     , Jr.  \n",
       "2529     , Jr.  \n",
       "2573     , Jr.  \n",
       "3992     , Jr.  "
      ]
     },
     "execution_count": 28,
     "metadata": {},
     "output_type": "execute_result"
    }
   ],
   "source": [
    "# Two\n",
    "pd.set_option('display.max_rows', None)\n",
    "pd.set_option('display.max_colwidth', None)\n",
    "\n",
    "two = df_cast_rem[df_cast_rem['remainder'].apply(lambda x: len(x.split(' '))) == 2]\n",
    "two"
   ]
  },
  {
   "cell_type": "code",
   "execution_count": 29,
   "id": "601af029-2946-4362-8279-d396b010e424",
   "metadata": {},
   "outputs": [
    {
     "data": {
      "text/plain": [
       "array([', Jr.'], dtype=object)"
      ]
     },
     "execution_count": 29,
     "metadata": {},
     "output_type": "execute_result"
    }
   ],
   "source": [
    "two['remainder'].unique()"
   ]
  },
  {
   "cell_type": "code",
   "execution_count": 31,
   "id": "529de64a-c3b5-4d0b-b1d8-bdc6cbd66c87",
   "metadata": {
    "tags": []
   },
   "outputs": [],
   "source": [
    "two_unique = two.remainder.unique().tolist()\n",
    "\n",
    "new_value = {\n",
    "    ', Jr.' : 'Ernie Reyes, Jr.',\n",
    "    'hisholm iwell' : 'Melanie Chisholm',\n",
    "    'R. on' : 'R. H. Thomson',\n",
    "    'u Chen' : 'Hui Lou Chen',\n",
    "    'Kajol l' : 'Kajol'\n",
    "}\n",
    "\n",
    "for idx, c in enumerate(two_unique):\n",
    "    if c in new_value.keys():\n",
    "        two_unique[idx] = new_value[c]\n",
    "\n",
    "new_actor_list = new_actor_list + two_unique + ['Jimmy Shergill', 'Harry Carey, Jr.', 'John Cothran, Jr.', 'Sammy Davis, Jr.', 'Al Freeman, Jr. '\n",
    "                                               , 'Sammy Davis, Jr.', 'Chris Warren, Jr.', 'John Cothran, Jr.', 'Harry Carey, Jr.']"
   ]
  },
  {
   "cell_type": "code",
   "execution_count": 34,
   "id": "936caeca-19cc-4e4f-a1ec-da812e3c0570",
   "metadata": {},
   "outputs": [],
   "source": [
    "import csv\n",
    "with open('new_actor_list.txt', 'w', encoding=\"utf-8\") as f:\n",
    "    write = csv.writer(f)\n",
    "    \n",
    "    write.writerow(new_actor_list)"
   ]
  },
  {
   "cell_type": "code",
   "execution_count": 33,
   "id": "4e069e8b-c142-41f6-8995-0d8abc19e316",
   "metadata": {},
   "outputs": [
    {
     "data": {
      "text/plain": [
       "['Ernie Reyes, Jr.',\n",
       " 'Jimmy Shergill',\n",
       " 'Harry Carey, Jr.',\n",
       " 'John Cothran, Jr.',\n",
       " 'Sammy Davis, Jr.',\n",
       " 'Al Freeman, Jr. ',\n",
       " 'Sammy Davis, Jr.',\n",
       " 'Chris Warren, Jr.',\n",
       " 'John Cothran, Jr.',\n",
       " 'Harry Carey, Jr.']"
      ]
     },
     "execution_count": 33,
     "metadata": {},
     "output_type": "execute_result"
    }
   ],
   "source": [
    "new_actor_list[-10:]"
   ]
  },
  {
   "cell_type": "code",
   "execution_count": null,
   "id": "a4b9fcb0-e460-49d7-a419-e5f0b64535d2",
   "metadata": {},
   "outputs": [],
   "source": []
  }
 ],
 "metadata": {
  "kernelspec": {
   "display_name": "Python 3",
   "language": "python",
   "name": "python3"
  },
  "language_info": {
   "codemirror_mode": {
    "name": "ipython",
    "version": 3
   },
   "file_extension": ".py",
   "mimetype": "text/x-python",
   "name": "python",
   "nbconvert_exporter": "python",
   "pygments_lexer": "ipython3",
   "version": "3.8.8"
  }
 },
 "nbformat": 4,
 "nbformat_minor": 5
}
