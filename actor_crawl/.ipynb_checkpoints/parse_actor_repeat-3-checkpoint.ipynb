{
 "cells": [
  {
   "cell_type": "code",
   "execution_count": 77,
   "id": "d7b14854-4bcb-4695-9f1f-54cba75d0c07",
   "metadata": {},
   "outputs": [
    {
     "name": "stderr",
     "output_type": "stream",
     "text": [
      "<ipython-input-77-2d62189e33fb>:10: SettingWithCopyWarning: \n",
      "A value is trying to be set on a copy of a slice from a DataFrame\n",
      "\n",
      "See the caveats in the documentation: https://pandas.pydata.org/pandas-docs/stable/user_guide/indexing.html#returning-a-view-versus-a-copy\n",
      "  df_cast.dropna(inplace=True)\n"
     ]
    }
   ],
   "source": [
    "import pandas as pd\n",
    "import re\n",
    "\n",
    "# Load data_set:\n",
    "filepath = r'C:\\Users\\ADMIN\\Desktop\\python\\project'\n",
    "df = pd.read_csv(filepath + r'\\clean_data\\fact_movie.csv', encoding='UTF-8', engine='python')\n",
    "\n",
    "# Create df_cast dataframe\n",
    "df_cast = df[['id', 'cast']]\n",
    "df_cast.dropna(inplace=True)"
   ]
  },
  {
   "cell_type": "code",
   "execution_count": 78,
   "id": "e4a1cb70-7d92-4e7c-85a6-177c33edd3e2",
   "metadata": {
    "tags": []
   },
   "outputs": [],
   "source": [
    "# Load imdb_actor_list file\n",
    "\n",
    "filepath = r'C:\\Users\\ADMIN\\Desktop\\python\\project'\n",
    "f = open('new_actor_list.txt', \"r\", encoding=\"utf-8\")\n",
    "new_actor_list = f.read().split(',')"
   ]
  },
  {
   "cell_type": "code",
   "execution_count": 79,
   "id": "adfa33b8-764d-47bc-b7b0-7507633956d2",
   "metadata": {
    "tags": []
   },
   "outputs": [],
   "source": [
    "# Sort list and get the names over 2 words only\n",
    "\n",
    "new_actor_list = list(map(lambda x: x.strip(), new_actor_list))\n",
    "new_actor_list = sorted(new_actor_list, key=len, reverse=True)"
   ]
  },
  {
   "cell_type": "code",
   "execution_count": null,
   "id": "affd6eac-b495-43ae-a14e-2a69b733bcc5",
   "metadata": {
    "tags": []
   },
   "outputs": [],
   "source": [
    "# Obtain list of actors that are available in actor_list\n",
    "cast_parsed_list = []\n",
    "for i in df_cast['cast']:\n",
    "    actor = []\n",
    "    for j in new_actor_list:\n",
    "        if j in i:\n",
    "            actor.append(j)\n",
    "            i = i.replace(j, '')\n",
    "            if i.strip() == '':\n",
    "                break\n",
    "\n",
    "    cast_parsed_list.append(actor)\n",
    "df_cast['cast_parsed'] = cast_parsed_list\n",
    "\n",
    "# Define functions to get the remainder\n",
    "def remove_string(string, string_list):\n",
    "    for i in string_list:\n",
    "        string = string.replace(i, '')\n",
    "\n",
    "    return string.strip()\n",
    "\n",
    "df_cast['remainder'] = df_cast[['cast', 'cast_parsed']].apply(lambda x: remove_string(x['cast'], x['cast_parsed']), axis=1)"
   ]
  },
  {
   "cell_type": "code",
   "execution_count": null,
   "id": "213ed3b0-8d11-483c-abf3-253f69e37968",
   "metadata": {},
   "outputs": [],
   "source": [
    "new_actor_list = []\n",
    "for i in df_cast['cast_parsed']:\n",
    "    new_actor_list = new_actor_list + i"
   ]
  },
  {
   "cell_type": "code",
   "execution_count": null,
   "id": "ae98f261-a377-4743-93bf-88f3f54f1b70",
   "metadata": {
    "tags": []
   },
   "outputs": [],
   "source": [
    "# Get the records which still need correcting\n",
    "df_cast_rem = df_cast[df_cast['remainder'] != '']"
   ]
  },
  {
   "cell_type": "code",
   "execution_count": null,
   "id": "c6859605-4b75-43d6-9e62-0040bfef5ff9",
   "metadata": {
    "tags": []
   },
   "outputs": [],
   "source": [
    "# Three\n",
    "pd.set_option('display.max_rows', None)\n",
    "pd.set_option('display.max_colwidth', None)\n",
    "\n",
    "three = df_cast_rem[df_cast_rem['remainder'].apply(lambda x: len(x.split(' '))) == 3]\n",
    "three"
   ]
  },
  {
   "cell_type": "code",
   "execution_count": null,
   "id": "601af029-2946-4362-8279-d396b010e424",
   "metadata": {},
   "outputs": [],
   "source": [
    "three['remainder'].unique()"
   ]
  },
  {
   "cell_type": "code",
   "execution_count": 74,
   "id": "529de64a-c3b5-4d0b-b1d8-bdc6cbd66c87",
   "metadata": {
    "tags": []
   },
   "outputs": [],
   "source": [
    "three_unique = three.remainder.unique().tolist()\n",
    "\n",
    "new_value = {\n",
    "    'Tong Dawei yi' : 'Zhang Xinyi',\n",
    "    'lei Fan Bingbing' : 'Xu Jinglei',\n",
    "    'Song Dandan fei' : 'Zhao Hongfei',\n",
    "    'Common  Bilal' : 'Bilal',\n",
    "    'Peter  Paul' : 'Peter Paul'\n",
    "}\n",
    "\n",
    "for idx, c in enumerate(three_unique):\n",
    "    if c in new_value.keys():\n",
    "        three_unique[idx] = new_value[c]\n",
    "\n",
    "new_actor_list = new_actor_list + three_unique"
   ]
  },
  {
   "cell_type": "code",
   "execution_count": 76,
   "id": "936caeca-19cc-4e4f-a1ec-da812e3c0570",
   "metadata": {},
   "outputs": [],
   "source": [
    "import csv\n",
    "with open('new_actor_list.txt', 'w', encoding=\"utf-8\") as f:\n",
    "    write = csv.writer(f)\n",
    "    \n",
    "    write.writerow(new_actor_list)"
   ]
  },
  {
   "cell_type": "code",
   "execution_count": null,
   "id": "3476e1e7-7397-49e0-b96d-f8a916a81804",
   "metadata": {},
   "outputs": [],
   "source": []
  }
 ],
 "metadata": {
  "kernelspec": {
   "display_name": "Python 3",
   "language": "python",
   "name": "python3"
  },
  "language_info": {
   "codemirror_mode": {
    "name": "ipython",
    "version": 3
   },
   "file_extension": ".py",
   "mimetype": "text/x-python",
   "name": "python",
   "nbconvert_exporter": "python",
   "pygments_lexer": "ipython3",
   "version": "3.8.8"
  }
 },
 "nbformat": 4,
 "nbformat_minor": 5
}
